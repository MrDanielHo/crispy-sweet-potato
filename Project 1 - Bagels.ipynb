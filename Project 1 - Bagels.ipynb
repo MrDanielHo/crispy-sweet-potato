{
 "cells": [
  {
   "attachments": {},
   "cell_type": "markdown",
   "metadata": {},
   "source": [
    "# 1. Bagels\n",
    "In Bagels, a deductive logic game, you must guess a secret 3 digit number based on clues.<br>\n",
    "The game offers one of the following hints in response to your guess:\n",
    "* Pico - A correct digit in the wrong place\n",
    "* Fermi - A correct digit in the correct place, and\n",
    "* Bagels - no correct digits.\n",
    "\n",
    "You have 10 tries to guess the secret number."
   ]
  },
  {
   "attachments": {},
   "cell_type": "markdown",
   "metadata": {},
   "source": [
    "## The program in Action\n",
    "When you run the program, the output will look like this:\n",
    "```cmd\n",
    "I am thinking of a 3-digit number.\n",
    "Try to guess what it is.\n",
    "Here are some cluies:\n",
    "When I say:     That Means:\n",
    "    Pico        One digit is correct but in the wrong position\n",
    "    Fermi       One digit is correct but in the wrong position\n",
    "    Bagels      No digit is correct.\n",
    "\n",
    "I have thought of a number.\n",
    "  You have 10 guess to get it.\n",
    "Guess #1:\n",
    "> 123\n",
    "Pico\n",
    "Guess #2:\n",
    "> 456\n",
    "Bagels\n",
    "Guess #3:\n",
    "> 178\n",
    "Pico Pico\n",
    "\n",
    "---\n",
    "\n",
    "Guess #7:\n",
    "> 791\n",
    "Fermi Fermi\n",
    "Guess #8:\n",
    "> 701\n",
    "You got it!\n",
    "Do you want to play again? (yes or no)\n",
    "> no\n",
    "Thanks for playing!\n",
    "```"
   ]
  },
  {
   "attachments": {},
   "cell_type": "markdown",
   "metadata": {},
   "source": [
    "## How it works\n",
    "Keep in mind that this program does not use integer values but rather string values that contain numberic digits.<br>\n",
    "For example, `'426'` is a different value than `426`.<br>\n",
    "We need to do this because we are perfoming string comparisons with the secret number, not math operations.<br>\n",
    "Remember that `'0'` can be a leading digit: the string `'026'` is different from `'26'`, but the integer `026` is the same as `26`."
   ]
  },
  {
   "cell_type": "code",
   "execution_count": 3,
   "metadata": {},
   "outputs": [],
   "source": [
    "import random\n",
    "\n",
    "NUM_DIGITS = 3 # (!) Try setting this to 1 or 10.\n",
    "MAX_GUESSES = 10 # (!) Try setting this to 1 or 100\n",
    "\n",
    "def main():\n",
    "    print(f'''\n",
    "I am thinking of a {NUM_DIGITS}-digit number with no repeated digits.\n",
    "Try to guess what it is.\n",
    "Here are some clues:\n",
    "When I say:     That Means:\n",
    "Pico        One digit is correct but in the wrong position\n",
    "Fermi       One digit is correct but in the wrong position\n",
    "Bagels      No digit is correct.\n",
    "\n",
    "For example:\n",
    "If the secret number was 248 and your guess was 843,\n",
    "the clues would be Fermi Pico\n",
    "    ''')\n",
    "\n",
    "    while True: # Main game loop.\n",
    "        # This stores the secret number the player needs to guess:\n",
    "        # secretNum = '123'\n",
    "        secretNum = getSecretNum()\n",
    "        print(f'I have thought of a number.')\n",
    "        print(f'  You have {MAX_GUESSES} guesses to get it.')\n",
    "        \n",
    "        numGuesses = 1\n",
    "        while numGuesses <= MAX_GUESSES:\n",
    "            guess = ''\n",
    "            # Keep looping until they enter a valid guess:\n",
    "            while len(guess) != NUM_DIGITS or not guess.isdecimal():\n",
    "                print(f'Guess #{numGuesses}')\n",
    "                guess = input('> ')\n",
    "                print(guess)\n",
    "            \n",
    "            clues = getClues(guess, secretNum)\n",
    "            print(clues)\n",
    "            numGuesses += 1\n",
    "\n",
    "            if guess == secretNum:\n",
    "                break # The guess is correct, so break out of the loop\n",
    "            if numGuesses > MAX_GUESSES:\n",
    "                print(f'''You ran out of guesses.\n",
    "                The answer was {secretNum}''')\n",
    "        \n",
    "        # Ask the player if they want to play again.\n",
    "        print('''Would you like to play again? (yes/no)''')\n",
    "        if not input('> ').lower().startswith('y'):\n",
    "            break\n",
    "    print('Thanks for playing')\n",
    "\n",
    "def getSecretNum():\n",
    "    # Returns a string made up of NUM_DIGITS unique random digits\n",
    "    numbers = list('0123456789') # Create a list of digits 0 to 9\n",
    "    random.shuffle(numbers) # Shuffle them into a random order\n",
    "\n",
    "    # Get the first NUM_DIGITS digits in the list for the secret number:\n",
    "    secretNum = ''\n",
    "    for i in range (NUM_DIGITS):\n",
    "        secretNum += str(numbers[i])\n",
    "    return secretNum\n",
    "\n",
    "def getClues(guess, secretNum):\n",
    "    # Returns a string with the pico, fermi, bagels clues for a guess \n",
    "    # and secret number pair.\n",
    "    if guess == secretNum:\n",
    "        return 'You got it!'\n",
    "    \n",
    "    clues = []\n",
    "\n",
    "    for i in range(len(guess)):\n",
    "        if guess[i] == secretNum[i]:\n",
    "            # A correct digit in the correct place\n",
    "            clues.append('Fermi')\n",
    "        elif guess[i] in secretNum:\n",
    "            # A correct guess in the incorrect place\n",
    "            clues.append('Pico')\n",
    "    if len(clues) == 0:\n",
    "        # No correct digits\n",
    "        return 'Bagels'\n",
    "    else:\n",
    "        # Sort the clues into alphabetical order so their original order \n",
    "        # does not give information away.\n",
    "        clues.sort()\n",
    "        # Make a single string from the list of string clues.\n",
    "        return ' '.join(clues)\n",
    "    \n",
    "# if the program is run (instead of imported), run the game:\n",
    "if __name__ == '__main__':\n",
    "    main"
   ]
  },
  {
   "cell_type": "code",
   "execution_count": 4,
   "metadata": {},
   "outputs": [
    {
     "name": "stdout",
     "output_type": "stream",
     "text": [
      "\n",
      "I am thinking of a 3-digit number with no repeated digits.\n",
      "Try to guess what it is.\n",
      "Here are some clues:\n",
      "When I say:     That Means:\n",
      "Pico        One digit is correct but in the wrong position\n",
      "Fermi       One digit is correct but in the wrong position\n",
      "Bagels      No digit is correct.\n",
      "\n",
      "For example:\n",
      "If the secret number was 248 and your guess was 843,\n",
      "the clues would be Fermi Pico\n",
      "    \n",
      "I have thought of a number.\n",
      "  You have 10 guesses to get it.\n",
      "Guess #1\n",
      "456\n",
      "Fermi\n",
      "Guess #1\n",
      "756\n",
      "Pico\n",
      "Guess #1\n",
      "749\n",
      "Pico Pico\n",
      "Guess #1\n",
      "743\n",
      "Pico Pico\n",
      "Guess #1\n",
      "742\n",
      "Pico Pico Pico\n",
      "Guess #1\n",
      "247\n",
      "Fermi Pico Pico\n",
      "Guess #1\n",
      "427\n",
      "You got it!\n",
      "Would you like to play again? (yes/no)\n",
      "Thanks for playing\n"
     ]
    }
   ],
   "source": [
    "main()"
   ]
  },
  {
   "attachments": {},
   "cell_type": "markdown",
   "metadata": {},
   "source": [
    "After entering the source code and running it a few times, try making changes to it.<br>\n",
    "The comments marked with `(!)` have suggestions for small changes you can make.<br>\n",
    "On your own, you can also try to figure out how to do the following:\n",
    "* Change the number of digits for the secret number by changing `NUM_DIGITS`.\n",
    "* Change the number of guesses the player gets by changing `MAX_GUESSES`.\n",
    "* Try to create a version with letters as well as digits in the secret number."
   ]
  },
  {
   "cell_type": "markdown",
   "metadata": {},
   "source": [
    "## Exploring the Program\n",
    "Try to find the answers to the following questions. <br>\n",
    "Experiment with some modifications to the code and rerun the program to see what effect the changes have.\n"
   ]
  },
  {
   "cell_type": "markdown",
   "metadata": {},
   "source": [
    "### 1. What happens when you change the `NUM_DIGITS` constant?\n",
    "The `NUM_DIGITS` variable is the number of digits we have to guess between 0 to 9.  "
   ]
  },
  {
   "cell_type": "markdown",
   "metadata": {},
   "source": [
    "### 2. What happens when you change the `MAX_GUESSES` constant?\n",
    "The `MAX_GUESSES` variable is the maximum number of attempts we can make before the game ends."
   ]
  },
  {
   "cell_type": "markdown",
   "metadata": {},
   "source": [
    "### 3. What happens if you set `NUM_DIGITS` to a number larger than 10?\n",
    "When `NUM_DIGITS` is greater than 10, the secret number cannot fill the index and we get a `IndexError: list index out of range`."
   ]
  },
  {
   "cell_type": "markdown",
   "metadata": {},
   "source": [
    "### 4. What happens if you replace `secretNum = getSecretNum()` on line 30 with `secretNum = '123'`?\n",
    "When setting the `secretNum = '123'`, the secret number is set to `123`.\n",
    "\n",
    "If `NUM_DIGITS` is greater than the length of the `secretNum`, we get an `index out of range` because the `guess` cannot check the index of `secretNum`. <br>\n",
    "e.g. if `guess = 123456` and `secretNum = '123'`, when guess tries to check for 4 in the index of secretNum, it is out of the index range. "
   ]
  },
  {
   "cell_type": "markdown",
   "metadata": {},
   "source": [
    "### 5. What error message do you get if you delete or comment out `numGuesses = 1` on line 34?\n",
    "By removing `numGuesses`, the variable has not been assigned.<br>\n",
    "We get the error: `UnboundLocalError: local variable 'numGuess' referenced before assignment`"
   ]
  },
  {
   "cell_type": "markdown",
   "metadata": {},
   "source": [
    "### 6. What happens if you delete or comment out `random.shuffles(numbers)` on line 62?\n",
    "By removing/commenting `random.shuffles(numbers)`, the numbers remain in the order `0123456789`.<br>\n",
    "E.g. if `NUM_DIGITS` is 2, the list of numbers would be `01`, or<br>\n",
    "&emsp;&ensp;&nbsp;if `NUM_DIGITS` is 8, the list of numbers would be `01234567`, etc."
   ]
  },
  {
   "cell_type": "markdown",
   "metadata": {},
   "source": [
    "### 7. What happens if you delete or comment out `if guess == secretNum:` on line 74 and `return  'You got it!'` on line 75?\n",
    "If we comment out the above, we get `Fermi Fermi Fermi` on a correct guess and the game ends as intented.<br>"
   ]
  },
  {
   "cell_type": "markdown",
   "metadata": {},
   "source": [
    "### 8. What happens if you comment out `numGuesses += 1` on line 44?\n",
    "If there no increment in `numGuesses`, it becomes an infinite number of guesses and we can indefinitely guess the `secretNum`."
   ]
  }
 ],
 "metadata": {
  "kernelspec": {
   "display_name": "Python 3",
   "language": "python",
   "name": "python3"
  },
  "language_info": {
   "codemirror_mode": {
    "name": "ipython",
    "version": 3
   },
   "file_extension": ".py",
   "mimetype": "text/x-python",
   "name": "python",
   "nbconvert_exporter": "python",
   "pygments_lexer": "ipython3",
   "version": "3.10.0"
  },
  "orig_nbformat": 4
 },
 "nbformat": 4,
 "nbformat_minor": 2
}
