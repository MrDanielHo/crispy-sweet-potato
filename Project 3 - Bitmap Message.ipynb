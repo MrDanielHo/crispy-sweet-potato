{
 "cells": [
  {
   "cell_type": "markdown",
   "metadata": {},
   "source": [
    "# 3. Bitmap Message\n",
    "This program uses a multiline string as a <i>bitmap</i>, a 2D image with only two possible colours for each pixel, to determine how it should display a message from the user.<br>\n",
    "In this bitmap, space characters represent an empty , and all other characters are replaced by characters in the user's message.<br>\n",
    "The provided bitmap resembles a world map, but you can change this to any image you'd like.<br>\n",
    "The binary simplicity of the space-or-message-characters system makes it good for beginners.<br>\n",
    "Try experimenting with different messages to see what the results look like!\n",
    "\n",
    "## The Program in Action\n",
    "when you run the program, the output will look like this:\n",
    "```\n",
    "> Hello!\n",
    "\n",
    "Hello!Hello!Hello!Hello!Hello!Hello!Hello!Hello!Hello!Hello!Hello!He\n",
    "   lo!Hello!Hello!  l  !He lo  e      llo!Hello!Hello!Hello!Hello!He\n",
    "  llo!Hello!Hello!Hello He lo H  l !Hello!Hello!Hello!Hello!Hello H\n",
    " el      lo!Hello!Hello!He       lo!Hello!Hello!Hello!Hello!Hel\n",
    "          o!Hello!Hello          lo  e lo!H ll !Hello!Hello!H l\n",
    "           !Hello!He            llo!Hel   Hello!Hello!Hell ! e\n",
    "            Hello!He           ello!Hello!Hello!Hello!Hell  H\n",
    "   l        H llo! ell         ello!Hello!Hell !Hello  el o\n",
    "               lo!H  l         ello!Hello!Hell   ell !He  o\n",
    "                 !Hello         llo!Hello!Hel    el   He  o\n",
    "                 !Hello!H        lo!Hello!Hell    l  !H llo\n",
    "                   ello!Hel         Hello!He          H llo Hell\n",
    "                   ello!Hell         ello!H  l        Hell !H l o!\n",
    "                   ello!Hell         ello!H l o           o!H l   H\n",
    "                     lo!Hel          ello! el             o!Hel   H\n",
    "                     lo!He            llo! e            llo!Hell\n",
    "                    llo!H             llo!              llo!Hello\n",
    "                    llo!              ll                 lo!Hell   e\n",
    "                    llo                                       l    e\n",
    "                    ll     l                    H\n",
    "Hello!Hello!Hello!Hello!Hello!Hello!Hello!Hello!Hello!Hello!Hello!He\n",
    "```\n",
    "\n",
    "## How It Works\n",
    "Instead of individually typing each character of the world map patterm, you can copy and paste the whole thing from https://inventwithpython.com/bitmapworld.txt.<br>\n",
    "A line of 68 periods at the top and bottom of the pattern acts as a tuler to help you align it corectly.<br>\n",
    "However the program will still work if you make types in the patern.\n",
    "\n",
    "The `bitmap.splitlines()` method call on line 43 returns a list of strings, each of which is a line in the multiline `bitmap` string.<br>\n",
    "Using a multiline string makes the bitmap easier to edit into whatever pattern you like.<br>\n",
    "The program fills in any non-space character in the pattern, which is why asterisks, periods, or any other character do the same thing.\n",
    "\n",
    "The `message[i % len(message)]` code on line 51 caues the repetition of the text in message.<br>\n",
    "As `i` increases from `0` to a number larger than `len(message)`, the expression `i % len(message)` evaulates to `0` again.<br>\n",
    "This causes `message[i % len(message]` to repeat the characters in `message` as `i` increases."
   ]
  },
  {
   "cell_type": "code",
   "execution_count": 12,
   "metadata": {},
   "outputs": [
    {
     "name": "stdout",
     "output_type": "stream",
     "text": [
      "Bitmap Message, by Al Sweigart al@inventwithpython.com\n",
      "Enter the message to display with the bitmap.\n",
      "\n",
      "Halloween!Halloween!Halloween!Halloween!Ha\n",
      "                een!\n",
      "               w  n!H\n",
      "               w  n!Ha\n",
      "                een Ha     en!Hallo\n",
      "      een!Hall     ! a  owee      owee\n",
      "    owe      loween!Hallo  en!H     een\n",
      "  ll       allo  en    lo     H       n!H\n",
      " al       Ha     e      ow              H\n",
      "Ha                                      Ha\n",
      "H          al             ee             a\n",
      "H        !  llo         o  en!           a\n",
      "H       n!Hallow       loween!H          a\n",
      "H                                        a\n",
      "Ha   w                             w     a\n",
      " a    ee !                       low     a\n",
      " a      n!Hal   e    al   ee  Hall       a\n",
      " al       Halloween!Halloween!H         Ha\n",
      "  ll         lo   n!H   ow   !         !H\n",
      "   low                             ween!\n",
      "     wee                         lowe\n",
      "        n!Halloween!Halloween!Hall\n",
      "Halloween!Halloween!Halloween!Halloween!Ha\n"
     ]
    }
   ],
   "source": [
    "### Bitmap message, by Al Sweigart al@inventwithpython.com\n",
    "### Displays a text message according to the provided bitmap image.\n",
    "### View this code at https://nostarch.com/big-book-small-python-projects\n",
    "### Tags: tiny, beginner, artistic\n",
    "\n",
    "import sys\n",
    "\n",
    "# (!) Try changing this multiline string to any image you like:\n",
    "\n",
    "# There are 68 periods along the top and bottom of this string:\n",
    "# (You can also copy and paste this string from\n",
    "# https://inventwithpython.com/bitmapworld.txt)\n",
    "# bitmap = \"\"\"\n",
    "# ....................................................................\n",
    "#    **************   *  *** **  *      ******************************\n",
    "#   ********************* ** ** *  * ****************************** *\n",
    "#  **      *****************       ******************************\n",
    "#           *************          **  * **** ** ************** *\n",
    "#            *********            *******   **************** * *\n",
    "#             ********           ***************************  *\n",
    "#    *        * **** ***         *************** ******  ** *\n",
    "#                ****  *         ***************   *** ***  *\n",
    "#                  ******         *************    **   **  *\n",
    "#                  ********        *************    *  ** ***\n",
    "#                    ********         ********          * *** ****\n",
    "#                    *********         ******  *        **** ** * **\n",
    "#                    *********         ****** * *           *** *   *\n",
    "#                      ******          ***** **             *****   *\n",
    "#                      *****            **** *            ********\n",
    "#                     *****             ****              *********\n",
    "#                     ****              **                 *******   *\n",
    "#                     ***                                       *    *\n",
    "#                     **     *                    *\n",
    "# ....................................................................\"\"\"\n",
    "\n",
    "bitmap = '''\n",
    "..........................................\n",
    "                ████\n",
    "               █  ███\n",
    "               █  ████\n",
    "                ███ ██     ████████\n",
    "      ████████     █ █  ████      ████\n",
    "    ███      ████████████  ████     ███\n",
    "  ██       ████  ██    ██     █       ███\n",
    " ██       ██     █      ██              █\n",
    "██                                      ██\n",
    "█          ██             ██             █\n",
    "█        █  ███         █  ███           █\n",
    "█       ████████       ████████          █\n",
    "█                                        █\n",
    "██   █                             █     █\n",
    " █    ██ █                       ███     █\n",
    " █      █████   █    ██   ██  ████       █\n",
    " ██       █████████████████████         ██\n",
    "  ██         ██   ███   ██   █         ██\n",
    "   ███                             █████\n",
    "     ███                         ████\n",
    "        ██████████████████████████\n",
    "..........................................'''\n",
    "\n",
    "print('Bitmap Message, by Al Sweigart al@inventwithpython.com')\n",
    "print('Enter the message to display with the bitmap.')\n",
    "message = input('> ')\n",
    "if message == '':\n",
    "    sys.exit\n",
    "\n",
    "# Loop over each line in the bitmap:\n",
    "for line in bitmap.splitlines():\n",
    "    # Loop over each character in the line:\n",
    "    for i, bit in enumerate(line):\n",
    "        if bit == ' ':\n",
    "            # Print an empty space since there's a space in the bitmap:\n",
    "            print(' ', end='')\n",
    "        else:\n",
    "            # Print a character from the message:\n",
    "            print(message[i % len(message)], end='')\n",
    "    print() # Print a newline "
   ]
  },
  {
   "cell_type": "markdown",
   "metadata": {},
   "source": [
    "After entering the source code and running it a few times, try making experimental changes to it.<br>\n",
    "You can change the string in bitmap to create entirely new patterns."
   ]
  },
  {
   "cell_type": "markdown",
   "metadata": {},
   "source": [
    "## Exploring the Program\n",
    "Try to find the answers to the following questions.<br>\n",
    "Experiment with some modifications to the code and rerun the program to see what effect the changes have."
   ]
  },
  {
   "cell_type": "markdown",
   "metadata": {},
   "source": [
    "### 1. What happens if the players enters a blank string for the message?\n",
    "We get the error `ZeroDivisionError: integer division or modulo by zero`.\n",
    "\n",
    "Because the line 51 is using the length of the input for a calculation, without any input it cannot divide by zero."
   ]
  },
  {
   "cell_type": "markdown",
   "metadata": {},
   "source": [
    "### 2. Does it matter what the nonspace characters are in the bitmaps variable's string?\n",
    "It does not matter what the nonspace characters are as the programming is determining space characters for blank spaces."
   ]
  },
  {
   "cell_type": "markdown",
   "metadata": {},
   "source": [
    "### 3. What does the `i` variable created on line 45 represent?\n",
    "The `i` variable determines what characters of the input are placed on the bitmap."
   ]
  },
  {
   "cell_type": "markdown",
   "metadata": {},
   "source": [
    "### 4. What bug happens if you delete of comment out `print()` on line 52?\n",
    "If we remove the print() on line 52, the bitmap is entered into a single line rather than create the image on multiple lines."
   ]
  }
 ],
 "metadata": {
  "kernelspec": {
   "display_name": "Python 3",
   "language": "python",
   "name": "python3"
  },
  "language_info": {
   "codemirror_mode": {
    "name": "ipython",
    "version": 3
   },
   "file_extension": ".py",
   "mimetype": "text/x-python",
   "name": "python",
   "nbconvert_exporter": "python",
   "pygments_lexer": "ipython3",
   "version": "3.10.0"
  }
 },
 "nbformat": 4,
 "nbformat_minor": 2
}
